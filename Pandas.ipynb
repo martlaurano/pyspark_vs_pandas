{
 "cells": [
  {
   "cell_type": "markdown",
   "id": "ce8e9995",
   "metadata": {},
   "source": [
    "# Importando Ferramentas"
   ]
  },
  {
   "cell_type": "code",
   "execution_count": 302,
   "id": "02cf7909",
   "metadata": {},
   "outputs": [],
   "source": [
    "import pandas as pd\n",
    "import numpy as np"
   ]
  },
  {
   "cell_type": "markdown",
   "id": "81fd13f9",
   "metadata": {},
   "source": [
    "# Criando o DataFrame com as Colunas Desejadas (excl. Pandas)"
   ]
  },
  {
   "cell_type": "code",
   "execution_count": 303,
   "id": "3f52c58f",
   "metadata": {},
   "outputs": [],
   "source": [
    "colunas = [0,1,2,3,4,5,6,7,9,10,14,29]"
   ]
  },
  {
   "cell_type": "code",
   "execution_count": 304,
   "id": "4c0433e0",
   "metadata": {},
   "outputs": [],
   "source": [
    "dados = pd.read_csv('dados/cars.csv',usecols=colunas)"
   ]
  },
  {
   "cell_type": "code",
   "execution_count": 305,
   "id": "37813f03",
   "metadata": {},
   "outputs": [],
   "source": [
    "dfuc = pd.DataFrame(dados)"
   ]
  },
  {
   "cell_type": "code",
   "execution_count": 306,
   "id": "5a46fade",
   "metadata": {},
   "outputs": [
    {
     "data": {
      "text/html": [
       "<div>\n",
       "<style scoped>\n",
       "    .dataframe tbody tr th:only-of-type {\n",
       "        vertical-align: middle;\n",
       "    }\n",
       "\n",
       "    .dataframe tbody tr th {\n",
       "        vertical-align: top;\n",
       "    }\n",
       "\n",
       "    .dataframe thead th {\n",
       "        text-align: right;\n",
       "    }\n",
       "</style>\n",
       "<table border=\"1\" class=\"dataframe\">\n",
       "  <thead>\n",
       "    <tr style=\"text-align: right;\">\n",
       "      <th></th>\n",
       "      <th>manufacturer_name</th>\n",
       "      <th>model_name</th>\n",
       "      <th>transmission</th>\n",
       "      <th>color</th>\n",
       "      <th>odometer_value</th>\n",
       "      <th>year_produced</th>\n",
       "      <th>engine_fuel</th>\n",
       "      <th>engine_has_gas</th>\n",
       "      <th>engine_capacity</th>\n",
       "      <th>body_type</th>\n",
       "      <th>price_usd</th>\n",
       "      <th>duration_listed</th>\n",
       "    </tr>\n",
       "  </thead>\n",
       "  <tbody>\n",
       "    <tr>\n",
       "      <th>0</th>\n",
       "      <td>Subaru</td>\n",
       "      <td>Outback</td>\n",
       "      <td>automatic</td>\n",
       "      <td>silver</td>\n",
       "      <td>190000</td>\n",
       "      <td>2010</td>\n",
       "      <td>gasoline</td>\n",
       "      <td>False</td>\n",
       "      <td>2.5</td>\n",
       "      <td>universal</td>\n",
       "      <td>10900.00</td>\n",
       "      <td>16</td>\n",
       "    </tr>\n",
       "    <tr>\n",
       "      <th>1</th>\n",
       "      <td>Subaru</td>\n",
       "      <td>Outback</td>\n",
       "      <td>automatic</td>\n",
       "      <td>blue</td>\n",
       "      <td>290000</td>\n",
       "      <td>2002</td>\n",
       "      <td>gasoline</td>\n",
       "      <td>False</td>\n",
       "      <td>3.0</td>\n",
       "      <td>universal</td>\n",
       "      <td>5000.00</td>\n",
       "      <td>83</td>\n",
       "    </tr>\n",
       "    <tr>\n",
       "      <th>2</th>\n",
       "      <td>Subaru</td>\n",
       "      <td>Forester</td>\n",
       "      <td>automatic</td>\n",
       "      <td>red</td>\n",
       "      <td>402000</td>\n",
       "      <td>2001</td>\n",
       "      <td>gasoline</td>\n",
       "      <td>False</td>\n",
       "      <td>2.5</td>\n",
       "      <td>suv</td>\n",
       "      <td>2800.00</td>\n",
       "      <td>151</td>\n",
       "    </tr>\n",
       "    <tr>\n",
       "      <th>3</th>\n",
       "      <td>Subaru</td>\n",
       "      <td>Impreza</td>\n",
       "      <td>mechanical</td>\n",
       "      <td>blue</td>\n",
       "      <td>10000</td>\n",
       "      <td>1999</td>\n",
       "      <td>gasoline</td>\n",
       "      <td>False</td>\n",
       "      <td>3.0</td>\n",
       "      <td>sedan</td>\n",
       "      <td>9999.00</td>\n",
       "      <td>86</td>\n",
       "    </tr>\n",
       "    <tr>\n",
       "      <th>4</th>\n",
       "      <td>Subaru</td>\n",
       "      <td>Legacy</td>\n",
       "      <td>automatic</td>\n",
       "      <td>black</td>\n",
       "      <td>280000</td>\n",
       "      <td>2001</td>\n",
       "      <td>gasoline</td>\n",
       "      <td>False</td>\n",
       "      <td>2.5</td>\n",
       "      <td>universal</td>\n",
       "      <td>2134.11</td>\n",
       "      <td>7</td>\n",
       "    </tr>\n",
       "  </tbody>\n",
       "</table>\n",
       "</div>"
      ],
      "text/plain": [
       "  manufacturer_name model_name transmission   color  odometer_value  \\\n",
       "0            Subaru    Outback    automatic  silver          190000   \n",
       "1            Subaru    Outback    automatic    blue          290000   \n",
       "2            Subaru   Forester    automatic     red          402000   \n",
       "3            Subaru    Impreza   mechanical    blue           10000   \n",
       "4            Subaru     Legacy    automatic   black          280000   \n",
       "\n",
       "   year_produced engine_fuel  engine_has_gas  engine_capacity  body_type  \\\n",
       "0           2010    gasoline           False              2.5  universal   \n",
       "1           2002    gasoline           False              3.0  universal   \n",
       "2           2001    gasoline           False              2.5        suv   \n",
       "3           1999    gasoline           False              3.0      sedan   \n",
       "4           2001    gasoline           False              2.5  universal   \n",
       "\n",
       "   price_usd  duration_listed  \n",
       "0   10900.00               16  \n",
       "1    5000.00               83  \n",
       "2    2800.00              151  \n",
       "3    9999.00               86  \n",
       "4    2134.11                7  "
      ]
     },
     "execution_count": 306,
     "metadata": {},
     "output_type": "execute_result"
    }
   ],
   "source": [
    "dfuc.head()"
   ]
  },
  {
   "cell_type": "markdown",
   "id": "f225300e",
   "metadata": {},
   "source": [
    "# Renomeando Colunas"
   ]
  },
  {
   "cell_type": "code",
   "execution_count": 307,
   "id": "40a199ac",
   "metadata": {},
   "outputs": [],
   "source": [
    "nomes_colunas = {'manufacturer_name':'Montadora','model_name':'Modelo','transmission':'Transmissão','color':'Cor','odometer_value':'Kilometragem','year_produced':'Ano','engine_fuel':'Combustível','engine_has_gas':'Tem GNV','engine_capacity':'Motor','body_type':'Categoria','price_usd':'Preço (US$)','duration_listed':'Duração do Anúncio (dias)'}"
   ]
  },
  {
   "cell_type": "code",
   "execution_count": 308,
   "id": "cec803ee",
   "metadata": {},
   "outputs": [],
   "source": [
    "dfuc.rename(columns=nomes_colunas,inplace=True)"
   ]
  },
  {
   "cell_type": "code",
   "execution_count": 309,
   "id": "a020645f",
   "metadata": {},
   "outputs": [
    {
     "data": {
      "text/html": [
       "<div>\n",
       "<style scoped>\n",
       "    .dataframe tbody tr th:only-of-type {\n",
       "        vertical-align: middle;\n",
       "    }\n",
       "\n",
       "    .dataframe tbody tr th {\n",
       "        vertical-align: top;\n",
       "    }\n",
       "\n",
       "    .dataframe thead th {\n",
       "        text-align: right;\n",
       "    }\n",
       "</style>\n",
       "<table border=\"1\" class=\"dataframe\">\n",
       "  <thead>\n",
       "    <tr style=\"text-align: right;\">\n",
       "      <th></th>\n",
       "      <th>Montadora</th>\n",
       "      <th>Modelo</th>\n",
       "      <th>Transmissão</th>\n",
       "      <th>Cor</th>\n",
       "      <th>Kilometragem</th>\n",
       "      <th>Ano</th>\n",
       "      <th>Combustível</th>\n",
       "      <th>Tem GNV</th>\n",
       "      <th>Motor</th>\n",
       "      <th>Categoria</th>\n",
       "      <th>Preço (US$)</th>\n",
       "      <th>Duração do Anúncio (dias)</th>\n",
       "    </tr>\n",
       "  </thead>\n",
       "  <tbody>\n",
       "    <tr>\n",
       "      <th>0</th>\n",
       "      <td>Subaru</td>\n",
       "      <td>Outback</td>\n",
       "      <td>automatic</td>\n",
       "      <td>silver</td>\n",
       "      <td>190000</td>\n",
       "      <td>2010</td>\n",
       "      <td>gasoline</td>\n",
       "      <td>False</td>\n",
       "      <td>2.5</td>\n",
       "      <td>universal</td>\n",
       "      <td>10900.00</td>\n",
       "      <td>16</td>\n",
       "    </tr>\n",
       "    <tr>\n",
       "      <th>1</th>\n",
       "      <td>Subaru</td>\n",
       "      <td>Outback</td>\n",
       "      <td>automatic</td>\n",
       "      <td>blue</td>\n",
       "      <td>290000</td>\n",
       "      <td>2002</td>\n",
       "      <td>gasoline</td>\n",
       "      <td>False</td>\n",
       "      <td>3.0</td>\n",
       "      <td>universal</td>\n",
       "      <td>5000.00</td>\n",
       "      <td>83</td>\n",
       "    </tr>\n",
       "    <tr>\n",
       "      <th>2</th>\n",
       "      <td>Subaru</td>\n",
       "      <td>Forester</td>\n",
       "      <td>automatic</td>\n",
       "      <td>red</td>\n",
       "      <td>402000</td>\n",
       "      <td>2001</td>\n",
       "      <td>gasoline</td>\n",
       "      <td>False</td>\n",
       "      <td>2.5</td>\n",
       "      <td>suv</td>\n",
       "      <td>2800.00</td>\n",
       "      <td>151</td>\n",
       "    </tr>\n",
       "    <tr>\n",
       "      <th>3</th>\n",
       "      <td>Subaru</td>\n",
       "      <td>Impreza</td>\n",
       "      <td>mechanical</td>\n",
       "      <td>blue</td>\n",
       "      <td>10000</td>\n",
       "      <td>1999</td>\n",
       "      <td>gasoline</td>\n",
       "      <td>False</td>\n",
       "      <td>3.0</td>\n",
       "      <td>sedan</td>\n",
       "      <td>9999.00</td>\n",
       "      <td>86</td>\n",
       "    </tr>\n",
       "    <tr>\n",
       "      <th>4</th>\n",
       "      <td>Subaru</td>\n",
       "      <td>Legacy</td>\n",
       "      <td>automatic</td>\n",
       "      <td>black</td>\n",
       "      <td>280000</td>\n",
       "      <td>2001</td>\n",
       "      <td>gasoline</td>\n",
       "      <td>False</td>\n",
       "      <td>2.5</td>\n",
       "      <td>universal</td>\n",
       "      <td>2134.11</td>\n",
       "      <td>7</td>\n",
       "    </tr>\n",
       "  </tbody>\n",
       "</table>\n",
       "</div>"
      ],
      "text/plain": [
       "  Montadora    Modelo Transmissão     Cor  Kilometragem   Ano Combustível  \\\n",
       "0    Subaru   Outback   automatic  silver        190000  2010    gasoline   \n",
       "1    Subaru   Outback   automatic    blue        290000  2002    gasoline   \n",
       "2    Subaru  Forester   automatic     red        402000  2001    gasoline   \n",
       "3    Subaru   Impreza  mechanical    blue         10000  1999    gasoline   \n",
       "4    Subaru    Legacy   automatic   black        280000  2001    gasoline   \n",
       "\n",
       "   Tem GNV  Motor  Categoria  Preço (US$)  Duração do Anúncio (dias)  \n",
       "0    False    2.5  universal     10900.00                         16  \n",
       "1    False    3.0  universal      5000.00                         83  \n",
       "2    False    2.5        suv      2800.00                        151  \n",
       "3    False    3.0      sedan      9999.00                         86  \n",
       "4    False    2.5  universal      2134.11                          7  "
      ]
     },
     "execution_count": 309,
     "metadata": {},
     "output_type": "execute_result"
    }
   ],
   "source": [
    "dfuc.head()"
   ]
  },
  {
   "cell_type": "markdown",
   "id": "424f98f0",
   "metadata": {},
   "source": [
    "# Alterando o DataType da Coluna Preço"
   ]
  },
  {
   "cell_type": "code",
   "execution_count": 310,
   "id": "a75efd81",
   "metadata": {},
   "outputs": [
    {
     "data": {
      "text/plain": [
       "Montadora                     object\n",
       "Modelo                        object\n",
       "Transmissão                   object\n",
       "Cor                           object\n",
       "Kilometragem                   int64\n",
       "Ano                            int64\n",
       "Combustível                   object\n",
       "Tem GNV                         bool\n",
       "Motor                        float64\n",
       "Categoria                     object\n",
       "Preço (US$)                  float64\n",
       "Duração do Anúncio (dias)      int64\n",
       "dtype: object"
      ]
     },
     "execution_count": 310,
     "metadata": {},
     "output_type": "execute_result"
    }
   ],
   "source": [
    "dfuc.dtypes"
   ]
  },
  {
   "cell_type": "code",
   "execution_count": 311,
   "id": "526227b8",
   "metadata": {},
   "outputs": [],
   "source": [
    "# não necessário. O Pandas já interpreta os tipos de dados de cada coluna"
   ]
  },
  {
   "cell_type": "markdown",
   "id": "6eb90d62",
   "metadata": {},
   "source": [
    "# Removendo Registros de Valor Nulo"
   ]
  },
  {
   "cell_type": "code",
   "execution_count": 312,
   "id": "202ebe82",
   "metadata": {},
   "outputs": [],
   "source": [
    "null = dfuc['Motor'].isnull()"
   ]
  },
  {
   "cell_type": "code",
   "execution_count": 313,
   "id": "e1ad8089",
   "metadata": {},
   "outputs": [
    {
     "data": {
      "text/plain": [
       "0       False\n",
       "8782     True\n",
       "Name: Motor, dtype: bool"
      ]
     },
     "execution_count": 313,
     "metadata": {},
     "output_type": "execute_result"
    }
   ],
   "source": [
    "null.drop_duplicates()"
   ]
  },
  {
   "cell_type": "code",
   "execution_count": 314,
   "id": "9a9b956a",
   "metadata": {},
   "outputs": [],
   "source": [
    "dfuc.dropna(axis=0,how='any',inplace=True)"
   ]
  },
  {
   "cell_type": "code",
   "execution_count": 315,
   "id": "b2d8a288",
   "metadata": {},
   "outputs": [
    {
     "data": {
      "text/plain": [
       "0    False\n",
       "Name: Motor, dtype: bool"
      ]
     },
     "execution_count": 315,
     "metadata": {},
     "output_type": "execute_result"
    }
   ],
   "source": [
    "null = dfuc['Motor'].isnull()\n",
    "null.drop_duplicates()"
   ]
  },
  {
   "cell_type": "markdown",
   "id": "902e72a3",
   "metadata": {},
   "source": [
    "# Convertendo Coluna \"Tem GNV\""
   ]
  },
  {
   "cell_type": "code",
   "execution_count": 316,
   "id": "8571bd0d",
   "metadata": {
    "scrolled": true
   },
   "outputs": [],
   "source": [
    "dfuc['GNV'] = np.where(dfuc['Tem GNV'] == True, 'Sim', 'Não')"
   ]
  },
  {
   "cell_type": "code",
   "execution_count": 317,
   "id": "986a2ef3",
   "metadata": {},
   "outputs": [
    {
     "data": {
      "text/html": [
       "<div>\n",
       "<style scoped>\n",
       "    .dataframe tbody tr th:only-of-type {\n",
       "        vertical-align: middle;\n",
       "    }\n",
       "\n",
       "    .dataframe tbody tr th {\n",
       "        vertical-align: top;\n",
       "    }\n",
       "\n",
       "    .dataframe thead th {\n",
       "        text-align: right;\n",
       "    }\n",
       "</style>\n",
       "<table border=\"1\" class=\"dataframe\">\n",
       "  <thead>\n",
       "    <tr style=\"text-align: right;\">\n",
       "      <th></th>\n",
       "      <th>Montadora</th>\n",
       "      <th>Modelo</th>\n",
       "      <th>Transmissão</th>\n",
       "      <th>Cor</th>\n",
       "      <th>Kilometragem</th>\n",
       "      <th>Ano</th>\n",
       "      <th>Combustível</th>\n",
       "      <th>Tem GNV</th>\n",
       "      <th>Motor</th>\n",
       "      <th>Categoria</th>\n",
       "      <th>Preço (US$)</th>\n",
       "      <th>Duração do Anúncio (dias)</th>\n",
       "      <th>GNV</th>\n",
       "    </tr>\n",
       "  </thead>\n",
       "  <tbody>\n",
       "    <tr>\n",
       "      <th>0</th>\n",
       "      <td>Subaru</td>\n",
       "      <td>Outback</td>\n",
       "      <td>automatic</td>\n",
       "      <td>silver</td>\n",
       "      <td>190000</td>\n",
       "      <td>2010</td>\n",
       "      <td>gasoline</td>\n",
       "      <td>False</td>\n",
       "      <td>2.5</td>\n",
       "      <td>universal</td>\n",
       "      <td>10900.00</td>\n",
       "      <td>16</td>\n",
       "      <td>Não</td>\n",
       "    </tr>\n",
       "    <tr>\n",
       "      <th>1</th>\n",
       "      <td>Subaru</td>\n",
       "      <td>Outback</td>\n",
       "      <td>automatic</td>\n",
       "      <td>blue</td>\n",
       "      <td>290000</td>\n",
       "      <td>2002</td>\n",
       "      <td>gasoline</td>\n",
       "      <td>False</td>\n",
       "      <td>3.0</td>\n",
       "      <td>universal</td>\n",
       "      <td>5000.00</td>\n",
       "      <td>83</td>\n",
       "      <td>Não</td>\n",
       "    </tr>\n",
       "    <tr>\n",
       "      <th>2</th>\n",
       "      <td>Subaru</td>\n",
       "      <td>Forester</td>\n",
       "      <td>automatic</td>\n",
       "      <td>red</td>\n",
       "      <td>402000</td>\n",
       "      <td>2001</td>\n",
       "      <td>gasoline</td>\n",
       "      <td>False</td>\n",
       "      <td>2.5</td>\n",
       "      <td>suv</td>\n",
       "      <td>2800.00</td>\n",
       "      <td>151</td>\n",
       "      <td>Não</td>\n",
       "    </tr>\n",
       "    <tr>\n",
       "      <th>3</th>\n",
       "      <td>Subaru</td>\n",
       "      <td>Impreza</td>\n",
       "      <td>mechanical</td>\n",
       "      <td>blue</td>\n",
       "      <td>10000</td>\n",
       "      <td>1999</td>\n",
       "      <td>gasoline</td>\n",
       "      <td>False</td>\n",
       "      <td>3.0</td>\n",
       "      <td>sedan</td>\n",
       "      <td>9999.00</td>\n",
       "      <td>86</td>\n",
       "      <td>Não</td>\n",
       "    </tr>\n",
       "    <tr>\n",
       "      <th>4</th>\n",
       "      <td>Subaru</td>\n",
       "      <td>Legacy</td>\n",
       "      <td>automatic</td>\n",
       "      <td>black</td>\n",
       "      <td>280000</td>\n",
       "      <td>2001</td>\n",
       "      <td>gasoline</td>\n",
       "      <td>False</td>\n",
       "      <td>2.5</td>\n",
       "      <td>universal</td>\n",
       "      <td>2134.11</td>\n",
       "      <td>7</td>\n",
       "      <td>Não</td>\n",
       "    </tr>\n",
       "  </tbody>\n",
       "</table>\n",
       "</div>"
      ],
      "text/plain": [
       "  Montadora    Modelo Transmissão     Cor  Kilometragem   Ano Combustível  \\\n",
       "0    Subaru   Outback   automatic  silver        190000  2010    gasoline   \n",
       "1    Subaru   Outback   automatic    blue        290000  2002    gasoline   \n",
       "2    Subaru  Forester   automatic     red        402000  2001    gasoline   \n",
       "3    Subaru   Impreza  mechanical    blue         10000  1999    gasoline   \n",
       "4    Subaru    Legacy   automatic   black        280000  2001    gasoline   \n",
       "\n",
       "   Tem GNV  Motor  Categoria  Preço (US$)  Duração do Anúncio (dias)  GNV  \n",
       "0    False    2.5  universal     10900.00                         16  Não  \n",
       "1    False    3.0  universal      5000.00                         83  Não  \n",
       "2    False    2.5        suv      2800.00                        151  Não  \n",
       "3    False    3.0      sedan      9999.00                         86  Não  \n",
       "4    False    2.5  universal      2134.11                          7  Não  "
      ]
     },
     "execution_count": 317,
     "metadata": {},
     "output_type": "execute_result"
    }
   ],
   "source": [
    "dfuc.head()"
   ]
  },
  {
   "cell_type": "code",
   "execution_count": 318,
   "id": "4405b518",
   "metadata": {
    "scrolled": true
   },
   "outputs": [
    {
     "data": {
      "text/plain": [
       "0     Não\n",
       "31    Sim\n",
       "Name: GNV, dtype: object"
      ]
     },
     "execution_count": 318,
     "metadata": {},
     "output_type": "execute_result"
    }
   ],
   "source": [
    "gnv = dfuc['GNV']\n",
    "gnv.drop_duplicates()"
   ]
  },
  {
   "cell_type": "markdown",
   "id": "4aafa363",
   "metadata": {},
   "source": [
    "# Traduzindo / Convertendo Dados"
   ]
  },
  {
   "cell_type": "code",
   "execution_count": 319,
   "id": "c4708b32",
   "metadata": {},
   "outputs": [
    {
     "data": {
      "text/html": [
       "<div>\n",
       "<style scoped>\n",
       "    .dataframe tbody tr th:only-of-type {\n",
       "        vertical-align: middle;\n",
       "    }\n",
       "\n",
       "    .dataframe tbody tr th {\n",
       "        vertical-align: top;\n",
       "    }\n",
       "\n",
       "    .dataframe thead th {\n",
       "        text-align: right;\n",
       "    }\n",
       "</style>\n",
       "<table border=\"1\" class=\"dataframe\">\n",
       "  <thead>\n",
       "    <tr style=\"text-align: right;\">\n",
       "      <th></th>\n",
       "      <th>Montadora</th>\n",
       "      <th>Modelo</th>\n",
       "      <th>Transmissão</th>\n",
       "      <th>Cor</th>\n",
       "      <th>Kilometragem</th>\n",
       "      <th>Ano</th>\n",
       "      <th>Combustível</th>\n",
       "      <th>Tem GNV</th>\n",
       "      <th>Motor</th>\n",
       "      <th>Categoria</th>\n",
       "      <th>Preço (US$)</th>\n",
       "      <th>Duração do Anúncio (dias)</th>\n",
       "      <th>GNV</th>\n",
       "    </tr>\n",
       "  </thead>\n",
       "  <tbody>\n",
       "    <tr>\n",
       "      <th>0</th>\n",
       "      <td>Subaru</td>\n",
       "      <td>Outback</td>\n",
       "      <td>automatic</td>\n",
       "      <td>silver</td>\n",
       "      <td>190000</td>\n",
       "      <td>2010</td>\n",
       "      <td>gasoline</td>\n",
       "      <td>False</td>\n",
       "      <td>2.5</td>\n",
       "      <td>universal</td>\n",
       "      <td>10900.00</td>\n",
       "      <td>16</td>\n",
       "      <td>Não</td>\n",
       "    </tr>\n",
       "    <tr>\n",
       "      <th>1</th>\n",
       "      <td>Subaru</td>\n",
       "      <td>Outback</td>\n",
       "      <td>automatic</td>\n",
       "      <td>blue</td>\n",
       "      <td>290000</td>\n",
       "      <td>2002</td>\n",
       "      <td>gasoline</td>\n",
       "      <td>False</td>\n",
       "      <td>3.0</td>\n",
       "      <td>universal</td>\n",
       "      <td>5000.00</td>\n",
       "      <td>83</td>\n",
       "      <td>Não</td>\n",
       "    </tr>\n",
       "    <tr>\n",
       "      <th>2</th>\n",
       "      <td>Subaru</td>\n",
       "      <td>Forester</td>\n",
       "      <td>automatic</td>\n",
       "      <td>red</td>\n",
       "      <td>402000</td>\n",
       "      <td>2001</td>\n",
       "      <td>gasoline</td>\n",
       "      <td>False</td>\n",
       "      <td>2.5</td>\n",
       "      <td>suv</td>\n",
       "      <td>2800.00</td>\n",
       "      <td>151</td>\n",
       "      <td>Não</td>\n",
       "    </tr>\n",
       "    <tr>\n",
       "      <th>3</th>\n",
       "      <td>Subaru</td>\n",
       "      <td>Impreza</td>\n",
       "      <td>mechanical</td>\n",
       "      <td>blue</td>\n",
       "      <td>10000</td>\n",
       "      <td>1999</td>\n",
       "      <td>gasoline</td>\n",
       "      <td>False</td>\n",
       "      <td>3.0</td>\n",
       "      <td>sedan</td>\n",
       "      <td>9999.00</td>\n",
       "      <td>86</td>\n",
       "      <td>Não</td>\n",
       "    </tr>\n",
       "    <tr>\n",
       "      <th>4</th>\n",
       "      <td>Subaru</td>\n",
       "      <td>Legacy</td>\n",
       "      <td>automatic</td>\n",
       "      <td>black</td>\n",
       "      <td>280000</td>\n",
       "      <td>2001</td>\n",
       "      <td>gasoline</td>\n",
       "      <td>False</td>\n",
       "      <td>2.5</td>\n",
       "      <td>universal</td>\n",
       "      <td>2134.11</td>\n",
       "      <td>7</td>\n",
       "      <td>Não</td>\n",
       "    </tr>\n",
       "  </tbody>\n",
       "</table>\n",
       "</div>"
      ],
      "text/plain": [
       "  Montadora    Modelo Transmissão     Cor  Kilometragem   Ano Combustível  \\\n",
       "0    Subaru   Outback   automatic  silver        190000  2010    gasoline   \n",
       "1    Subaru   Outback   automatic    blue        290000  2002    gasoline   \n",
       "2    Subaru  Forester   automatic     red        402000  2001    gasoline   \n",
       "3    Subaru   Impreza  mechanical    blue         10000  1999    gasoline   \n",
       "4    Subaru    Legacy   automatic   black        280000  2001    gasoline   \n",
       "\n",
       "   Tem GNV  Motor  Categoria  Preço (US$)  Duração do Anúncio (dias)  GNV  \n",
       "0    False    2.5  universal     10900.00                         16  Não  \n",
       "1    False    3.0  universal      5000.00                         83  Não  \n",
       "2    False    2.5        suv      2800.00                        151  Não  \n",
       "3    False    3.0      sedan      9999.00                         86  Não  \n",
       "4    False    2.5  universal      2134.11                          7  Não  "
      ]
     },
     "execution_count": 319,
     "metadata": {},
     "output_type": "execute_result"
    }
   ],
   "source": [
    "dfuc.head()"
   ]
  },
  {
   "cell_type": "markdown",
   "id": "8e447d50",
   "metadata": {},
   "source": [
    "## Transmissão"
   ]
  },
  {
   "cell_type": "code",
   "execution_count": 320,
   "id": "df5d9e2a",
   "metadata": {},
   "outputs": [
    {
     "data": {
      "text/plain": [
       "0     automatic\n",
       "3    mechanical\n",
       "Name: Transmissão, dtype: object"
      ]
     },
     "execution_count": 320,
     "metadata": {},
     "output_type": "execute_result"
    }
   ],
   "source": [
    "transmissao = dfuc['Transmissão']\n",
    "transmissao.drop_duplicates()"
   ]
  },
  {
   "cell_type": "code",
   "execution_count": 321,
   "id": "6df638a2",
   "metadata": {},
   "outputs": [],
   "source": [
    "transm_rename = {'automatic':'Automático','machanical':'Manual'}\n",
    "dfuc['Transmissão'].replace(transm_rename,inplace=True)"
   ]
  },
  {
   "cell_type": "code",
   "execution_count": 322,
   "id": "cad5c396",
   "metadata": {},
   "outputs": [
    {
     "data": {
      "text/plain": [
       "0    Automático\n",
       "3    mechanical\n",
       "Name: Transmissão, dtype: object"
      ]
     },
     "execution_count": 322,
     "metadata": {},
     "output_type": "execute_result"
    }
   ],
   "source": [
    "transmissao_new = dfuc['Transmissão']\n",
    "transmissao_new.drop_duplicates()"
   ]
  },
  {
   "cell_type": "markdown",
   "id": "62ffec9e",
   "metadata": {},
   "source": [
    "## Cor"
   ]
  },
  {
   "cell_type": "code",
   "execution_count": 323,
   "id": "fde261df",
   "metadata": {},
   "outputs": [
    {
     "data": {
      "text/plain": [
       "0     silver\n",
       "1       blue\n",
       "2        red\n",
       "4      black\n",
       "8       grey\n",
       "10     other\n",
       "14     brown\n",
       "20     white\n",
       "24     green\n",
       "27    violet\n",
       "59    orange\n",
       "92    yellow\n",
       "Name: Cor, dtype: object"
      ]
     },
     "execution_count": 323,
     "metadata": {},
     "output_type": "execute_result"
    }
   ],
   "source": [
    "cor = dfuc['Cor']\n",
    "cor.drop_duplicates()"
   ]
  },
  {
   "cell_type": "code",
   "execution_count": 328,
   "id": "2cfafd51",
   "metadata": {},
   "outputs": [],
   "source": [
    "cor_rename = {'silver':'Prata','blue':'Azul','red':'Vermelho','black':'Preto','grey':'Cinza','other':'Outro','brown':'Marrom','white':'Branco','green':'Verde','violet':'Roxo','orange':'Laranja','yellow':'Amarelo'}\n",
    "dfuc['Cor'].replace(cor_rename,inplace=True)"
   ]
  },
  {
   "cell_type": "code",
   "execution_count": 329,
   "id": "c4dac700",
   "metadata": {},
   "outputs": [
    {
     "data": {
      "text/plain": [
       "0        Prata\n",
       "1         Azul\n",
       "2     Vermelho\n",
       "4        Preto\n",
       "8        Cinza\n",
       "10       Outro\n",
       "14      Marrom\n",
       "20      Branco\n",
       "24       Verde\n",
       "27        Roxo\n",
       "59     Laranja\n",
       "92     Amarelo\n",
       "Name: Cor, dtype: object"
      ]
     },
     "execution_count": 329,
     "metadata": {},
     "output_type": "execute_result"
    }
   ],
   "source": [
    "cor_new = dfuc['Cor']\n",
    "cor_new.drop_duplicates()"
   ]
  },
  {
   "cell_type": "markdown",
   "id": "b1530c34",
   "metadata": {},
   "source": [
    "## Combustível"
   ]
  },
  {
   "cell_type": "code",
   "execution_count": 331,
   "id": "d2e14528",
   "metadata": {},
   "outputs": [
    {
     "data": {
      "text/plain": [
       "0            gasoline\n",
       "31                gas\n",
       "136            diesel\n",
       "2153    hybrid-petrol\n",
       "5177    hybrid-diesel\n",
       "Name: Combustível, dtype: object"
      ]
     },
     "execution_count": 331,
     "metadata": {},
     "output_type": "execute_result"
    }
   ],
   "source": [
    "combustivel = dfuc['Combustível']\n",
    "combustivel.drop_duplicates()"
   ]
  },
  {
   "cell_type": "code",
   "execution_count": 332,
   "id": "cbc0423e",
   "metadata": {},
   "outputs": [],
   "source": [
    "combs_rename = {'gasoline':'Gasolina','gas':'Gás','diesel':'Diesel','hybrid-petrol':'Híbrido','hybrid-diesel':'Híbrido'}\n",
    "dfuc['Combustível'].replace(combs_rename,inplace=True)"
   ]
  },
  {
   "cell_type": "code",
   "execution_count": 333,
   "id": "60c873c1",
   "metadata": {},
   "outputs": [
    {
     "data": {
      "text/plain": [
       "0       Gasolina\n",
       "31           Gás\n",
       "136       Diesel\n",
       "2153     Híbrido\n",
       "Name: Combustível, dtype: object"
      ]
     },
     "execution_count": 333,
     "metadata": {},
     "output_type": "execute_result"
    }
   ],
   "source": [
    "combustivel_new = dfuc['Combustível']\n",
    "combustivel_new.drop_duplicates()"
   ]
  },
  {
   "cell_type": "markdown",
   "id": "938c71e5",
   "metadata": {},
   "source": [
    "## Categoria"
   ]
  },
  {
   "cell_type": "code",
   "execution_count": 334,
   "id": "78f7a157",
   "metadata": {},
   "outputs": [
    {
     "data": {
      "text/plain": [
       "0        universal\n",
       "2              suv\n",
       "3            sedan\n",
       "13       hatchback\n",
       "43        liftback\n",
       "103        minivan\n",
       "201        minibus\n",
       "318            van\n",
       "384         pickup\n",
       "440          coupe\n",
       "1835     cabriolet\n",
       "19486    limousine\n",
       "Name: Categoria, dtype: object"
      ]
     },
     "execution_count": 334,
     "metadata": {},
     "output_type": "execute_result"
    }
   ],
   "source": [
    "categoria = dfuc['Categoria']\n",
    "categoria.drop_duplicates()"
   ]
  },
  {
   "cell_type": "code",
   "execution_count": 336,
   "id": "678e0601",
   "metadata": {},
   "outputs": [],
   "source": [
    "categ_rename = {'universal':'SUV','suv':'SUV','sedan':'Sedan','hatchback':'Hatch','liftback':'SUV','minivan':'Minivan','minibus':'Minivan','van':'Van','pickup':'Pickup','coupe':'Coupê','cabriolet':'Conversível','limousine':'Limosine'}\n",
    "dfuc['Categoria'].replace(categ_rename,inplace=True)"
   ]
  },
  {
   "cell_type": "code",
   "execution_count": 337,
   "id": "41ef9c3d",
   "metadata": {},
   "outputs": [
    {
     "data": {
      "text/plain": [
       "0                SUV\n",
       "3              Sedan\n",
       "13             Hatch\n",
       "103          Minivan\n",
       "318              Van\n",
       "384           Pickup\n",
       "440            Coupê\n",
       "1835     Conversível\n",
       "19486       Limosine\n",
       "Name: Categoria, dtype: object"
      ]
     },
     "execution_count": 337,
     "metadata": {},
     "output_type": "execute_result"
    }
   ],
   "source": [
    "categoria_new = dfuc['Categoria']\n",
    "categoria_new.drop_duplicates()"
   ]
  },
  {
   "cell_type": "markdown",
   "id": "5f59b2f7",
   "metadata": {},
   "source": [
    "## Preço (US$)"
   ]
  },
  {
   "cell_type": "code",
   "execution_count": 338,
   "id": "fd19acd3",
   "metadata": {},
   "outputs": [],
   "source": [
    "dfuc['Valor (R$)'] = round(dfuc['Preço (US$)'] * 5.5,2)"
   ]
  },
  {
   "cell_type": "code",
   "execution_count": 339,
   "id": "7aa7d20e",
   "metadata": {
    "scrolled": true
   },
   "outputs": [
    {
     "data": {
      "text/html": [
       "<div>\n",
       "<style scoped>\n",
       "    .dataframe tbody tr th:only-of-type {\n",
       "        vertical-align: middle;\n",
       "    }\n",
       "\n",
       "    .dataframe tbody tr th {\n",
       "        vertical-align: top;\n",
       "    }\n",
       "\n",
       "    .dataframe thead th {\n",
       "        text-align: right;\n",
       "    }\n",
       "</style>\n",
       "<table border=\"1\" class=\"dataframe\">\n",
       "  <thead>\n",
       "    <tr style=\"text-align: right;\">\n",
       "      <th></th>\n",
       "      <th>Montadora</th>\n",
       "      <th>Modelo</th>\n",
       "      <th>Transmissão</th>\n",
       "      <th>Cor</th>\n",
       "      <th>Kilometragem</th>\n",
       "      <th>Ano</th>\n",
       "      <th>Combustível</th>\n",
       "      <th>Tem GNV</th>\n",
       "      <th>Motor</th>\n",
       "      <th>Categoria</th>\n",
       "      <th>Preço (US$)</th>\n",
       "      <th>Duração do Anúncio (dias)</th>\n",
       "      <th>GNV</th>\n",
       "      <th>Valor (R$)</th>\n",
       "    </tr>\n",
       "  </thead>\n",
       "  <tbody>\n",
       "    <tr>\n",
       "      <th>0</th>\n",
       "      <td>Subaru</td>\n",
       "      <td>Outback</td>\n",
       "      <td>Automático</td>\n",
       "      <td>Prata</td>\n",
       "      <td>190000</td>\n",
       "      <td>2010</td>\n",
       "      <td>Gasolina</td>\n",
       "      <td>False</td>\n",
       "      <td>2.5</td>\n",
       "      <td>SUV</td>\n",
       "      <td>10900.00</td>\n",
       "      <td>16</td>\n",
       "      <td>Não</td>\n",
       "      <td>59950.00</td>\n",
       "    </tr>\n",
       "    <tr>\n",
       "      <th>1</th>\n",
       "      <td>Subaru</td>\n",
       "      <td>Outback</td>\n",
       "      <td>Automático</td>\n",
       "      <td>Azul</td>\n",
       "      <td>290000</td>\n",
       "      <td>2002</td>\n",
       "      <td>Gasolina</td>\n",
       "      <td>False</td>\n",
       "      <td>3.0</td>\n",
       "      <td>SUV</td>\n",
       "      <td>5000.00</td>\n",
       "      <td>83</td>\n",
       "      <td>Não</td>\n",
       "      <td>27500.00</td>\n",
       "    </tr>\n",
       "    <tr>\n",
       "      <th>2</th>\n",
       "      <td>Subaru</td>\n",
       "      <td>Forester</td>\n",
       "      <td>Automático</td>\n",
       "      <td>Vermelho</td>\n",
       "      <td>402000</td>\n",
       "      <td>2001</td>\n",
       "      <td>Gasolina</td>\n",
       "      <td>False</td>\n",
       "      <td>2.5</td>\n",
       "      <td>SUV</td>\n",
       "      <td>2800.00</td>\n",
       "      <td>151</td>\n",
       "      <td>Não</td>\n",
       "      <td>15400.00</td>\n",
       "    </tr>\n",
       "    <tr>\n",
       "      <th>3</th>\n",
       "      <td>Subaru</td>\n",
       "      <td>Impreza</td>\n",
       "      <td>mechanical</td>\n",
       "      <td>Azul</td>\n",
       "      <td>10000</td>\n",
       "      <td>1999</td>\n",
       "      <td>Gasolina</td>\n",
       "      <td>False</td>\n",
       "      <td>3.0</td>\n",
       "      <td>Sedan</td>\n",
       "      <td>9999.00</td>\n",
       "      <td>86</td>\n",
       "      <td>Não</td>\n",
       "      <td>54994.50</td>\n",
       "    </tr>\n",
       "    <tr>\n",
       "      <th>4</th>\n",
       "      <td>Subaru</td>\n",
       "      <td>Legacy</td>\n",
       "      <td>Automático</td>\n",
       "      <td>Preto</td>\n",
       "      <td>280000</td>\n",
       "      <td>2001</td>\n",
       "      <td>Gasolina</td>\n",
       "      <td>False</td>\n",
       "      <td>2.5</td>\n",
       "      <td>SUV</td>\n",
       "      <td>2134.11</td>\n",
       "      <td>7</td>\n",
       "      <td>Não</td>\n",
       "      <td>11737.61</td>\n",
       "    </tr>\n",
       "  </tbody>\n",
       "</table>\n",
       "</div>"
      ],
      "text/plain": [
       "  Montadora    Modelo Transmissão       Cor  Kilometragem   Ano Combustível  \\\n",
       "0    Subaru   Outback  Automático     Prata        190000  2010    Gasolina   \n",
       "1    Subaru   Outback  Automático      Azul        290000  2002    Gasolina   \n",
       "2    Subaru  Forester  Automático  Vermelho        402000  2001    Gasolina   \n",
       "3    Subaru   Impreza  mechanical      Azul         10000  1999    Gasolina   \n",
       "4    Subaru    Legacy  Automático     Preto        280000  2001    Gasolina   \n",
       "\n",
       "   Tem GNV  Motor Categoria  Preço (US$)  Duração do Anúncio (dias)  GNV  \\\n",
       "0    False    2.5       SUV     10900.00                         16  Não   \n",
       "1    False    3.0       SUV      5000.00                         83  Não   \n",
       "2    False    2.5       SUV      2800.00                        151  Não   \n",
       "3    False    3.0     Sedan      9999.00                         86  Não   \n",
       "4    False    2.5       SUV      2134.11                          7  Não   \n",
       "\n",
       "   Valor (R$)  \n",
       "0    59950.00  \n",
       "1    27500.00  \n",
       "2    15400.00  \n",
       "3    54994.50  \n",
       "4    11737.61  "
      ]
     },
     "execution_count": 339,
     "metadata": {},
     "output_type": "execute_result"
    }
   ],
   "source": [
    "dfuc.head()"
   ]
  },
  {
   "cell_type": "markdown",
   "id": "135df833",
   "metadata": {},
   "source": [
    "# Excluindo Colunas \"Tem GNV\" e \"Preço (US$)\""
   ]
  },
  {
   "cell_type": "code",
   "execution_count": 340,
   "id": "ee3279a2",
   "metadata": {},
   "outputs": [],
   "source": [
    "colunas_excluir = ['Tem GNV', 'Preço (US$)']"
   ]
  },
  {
   "cell_type": "code",
   "execution_count": 341,
   "id": "4899e008",
   "metadata": {},
   "outputs": [],
   "source": [
    "dfuc.drop(columns=colunas_excluir,inplace=True)"
   ]
  },
  {
   "cell_type": "code",
   "execution_count": 342,
   "id": "05eb23d4",
   "metadata": {},
   "outputs": [
    {
     "data": {
      "text/html": [
       "<div>\n",
       "<style scoped>\n",
       "    .dataframe tbody tr th:only-of-type {\n",
       "        vertical-align: middle;\n",
       "    }\n",
       "\n",
       "    .dataframe tbody tr th {\n",
       "        vertical-align: top;\n",
       "    }\n",
       "\n",
       "    .dataframe thead th {\n",
       "        text-align: right;\n",
       "    }\n",
       "</style>\n",
       "<table border=\"1\" class=\"dataframe\">\n",
       "  <thead>\n",
       "    <tr style=\"text-align: right;\">\n",
       "      <th></th>\n",
       "      <th>Montadora</th>\n",
       "      <th>Modelo</th>\n",
       "      <th>Transmissão</th>\n",
       "      <th>Cor</th>\n",
       "      <th>Kilometragem</th>\n",
       "      <th>Ano</th>\n",
       "      <th>Combustível</th>\n",
       "      <th>Motor</th>\n",
       "      <th>Categoria</th>\n",
       "      <th>Duração do Anúncio (dias)</th>\n",
       "      <th>GNV</th>\n",
       "      <th>Valor (R$)</th>\n",
       "    </tr>\n",
       "  </thead>\n",
       "  <tbody>\n",
       "    <tr>\n",
       "      <th>0</th>\n",
       "      <td>Subaru</td>\n",
       "      <td>Outback</td>\n",
       "      <td>Automático</td>\n",
       "      <td>Prata</td>\n",
       "      <td>190000</td>\n",
       "      <td>2010</td>\n",
       "      <td>Gasolina</td>\n",
       "      <td>2.5</td>\n",
       "      <td>SUV</td>\n",
       "      <td>16</td>\n",
       "      <td>Não</td>\n",
       "      <td>59950.00</td>\n",
       "    </tr>\n",
       "    <tr>\n",
       "      <th>1</th>\n",
       "      <td>Subaru</td>\n",
       "      <td>Outback</td>\n",
       "      <td>Automático</td>\n",
       "      <td>Azul</td>\n",
       "      <td>290000</td>\n",
       "      <td>2002</td>\n",
       "      <td>Gasolina</td>\n",
       "      <td>3.0</td>\n",
       "      <td>SUV</td>\n",
       "      <td>83</td>\n",
       "      <td>Não</td>\n",
       "      <td>27500.00</td>\n",
       "    </tr>\n",
       "    <tr>\n",
       "      <th>2</th>\n",
       "      <td>Subaru</td>\n",
       "      <td>Forester</td>\n",
       "      <td>Automático</td>\n",
       "      <td>Vermelho</td>\n",
       "      <td>402000</td>\n",
       "      <td>2001</td>\n",
       "      <td>Gasolina</td>\n",
       "      <td>2.5</td>\n",
       "      <td>SUV</td>\n",
       "      <td>151</td>\n",
       "      <td>Não</td>\n",
       "      <td>15400.00</td>\n",
       "    </tr>\n",
       "    <tr>\n",
       "      <th>3</th>\n",
       "      <td>Subaru</td>\n",
       "      <td>Impreza</td>\n",
       "      <td>mechanical</td>\n",
       "      <td>Azul</td>\n",
       "      <td>10000</td>\n",
       "      <td>1999</td>\n",
       "      <td>Gasolina</td>\n",
       "      <td>3.0</td>\n",
       "      <td>Sedan</td>\n",
       "      <td>86</td>\n",
       "      <td>Não</td>\n",
       "      <td>54994.50</td>\n",
       "    </tr>\n",
       "    <tr>\n",
       "      <th>4</th>\n",
       "      <td>Subaru</td>\n",
       "      <td>Legacy</td>\n",
       "      <td>Automático</td>\n",
       "      <td>Preto</td>\n",
       "      <td>280000</td>\n",
       "      <td>2001</td>\n",
       "      <td>Gasolina</td>\n",
       "      <td>2.5</td>\n",
       "      <td>SUV</td>\n",
       "      <td>7</td>\n",
       "      <td>Não</td>\n",
       "      <td>11737.61</td>\n",
       "    </tr>\n",
       "  </tbody>\n",
       "</table>\n",
       "</div>"
      ],
      "text/plain": [
       "  Montadora    Modelo Transmissão       Cor  Kilometragem   Ano Combustível  \\\n",
       "0    Subaru   Outback  Automático     Prata        190000  2010    Gasolina   \n",
       "1    Subaru   Outback  Automático      Azul        290000  2002    Gasolina   \n",
       "2    Subaru  Forester  Automático  Vermelho        402000  2001    Gasolina   \n",
       "3    Subaru   Impreza  mechanical      Azul         10000  1999    Gasolina   \n",
       "4    Subaru    Legacy  Automático     Preto        280000  2001    Gasolina   \n",
       "\n",
       "   Motor Categoria  Duração do Anúncio (dias)  GNV  Valor (R$)  \n",
       "0    2.5       SUV                         16  Não    59950.00  \n",
       "1    3.0       SUV                         83  Não    27500.00  \n",
       "2    2.5       SUV                        151  Não    15400.00  \n",
       "3    3.0     Sedan                         86  Não    54994.50  \n",
       "4    2.5       SUV                          7  Não    11737.61  "
      ]
     },
     "execution_count": 342,
     "metadata": {},
     "output_type": "execute_result"
    }
   ],
   "source": [
    "dfuc.head()"
   ]
  },
  {
   "cell_type": "markdown",
   "id": "559892a2",
   "metadata": {},
   "source": [
    "# Exportando DataFrame Para JSON"
   ]
  },
  {
   "cell_type": "code",
   "execution_count": 343,
   "id": "c489169b",
   "metadata": {},
   "outputs": [],
   "source": [
    "dfuc.to_json('dados/carros_usados.json')"
   ]
  }
 ],
 "metadata": {
  "kernelspec": {
   "display_name": "Python 3",
   "language": "python",
   "name": "python3"
  },
  "language_info": {
   "codemirror_mode": {
    "name": "ipython",
    "version": 3
   },
   "file_extension": ".py",
   "mimetype": "text/x-python",
   "name": "python",
   "nbconvert_exporter": "python",
   "pygments_lexer": "ipython3",
   "version": "3.8.8"
  }
 },
 "nbformat": 4,
 "nbformat_minor": 5
}
